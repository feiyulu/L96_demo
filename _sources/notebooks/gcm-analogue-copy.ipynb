{
 "cells": [
  {
   "cell_type": "markdown",
   "id": "08d71bbc",
   "metadata": {},
   "source": [
    "# The Lorenz-96 and its GCM Analog\n",
    "\n",
    "The physical equations of motion of the system describing the atmosphere dynamics are known. Also in the real atmosphere there is variability over all scales, from the smallest molecular scales to the largest planetary scales.\n",
    "Thus, it is not feasible to explicitly solve the known physical equations of motion within Global Climate Models (GCMs), as computational resources limit the range of scales that can be resolved. To make the behavior of the GCM better match the real world, we need to effectively parameterize the effects that the unresolved scales have on the resolved (large) scales.\n",
    "\n",
    "The two time-scale L96 model, described in the the [previous notebook](https://m2lines.github.io/L96_demo/notebooks/L96-two-scale-description.html#), can be considered as a simplified analog for real world atmosphere, where variability resides at only two discrete scales (a simplification of the continuum in the real world). In this analogy, a GCM would be a model that can only solve the equations for the slow time scale, where the effects of the fast time-scale variables would be missing. We introduce the single time-scale version of the L96 model below. To make the single time scale model match the two time scale model, the effects of the fast time scales need to parameterized into the single time scale model."
   ]
  },
  {
   "cell_type": "markdown",
   "id": "15939db9-43b8-4d20-8a31-84bdbc80fd2d",
   "metadata": {},
   "source": [
    "## The two time-scale model: analog for the real atmosphere\n",
    "\n",
    "We will first describe a simulation with the two time-scale model from the {doc}`L96-two-scale-description`, which is taken as the control simulation that we hope to replicate with the single time-scale model. \n",
    "\n",
    "The forcing and resolution parameters, $F$, $J$ and $K$, for the two time-scale model are fixed based on {cite}`Wilks2005`, as $F=18$ or $20$, $K=8$, and $J=32$. Here, the value chosen for the parameter $F$ is set large enough to ensure chaotic behavior. We also use the reference values for the $h$, $b$ and $c$ parameters to be, $h=1$, $b=10$, and $c=10$.\n",
    "With this particular choice of parameter values, one model time unit (MTU) is approximately equivalent to five atmospheric days. This estimate is obtained by comparing error-doubling times in the Lorenz-96 model and the real atmosphere {cite}`Lorenz1995`.\n",
    "\n",
    "In the following code, we solve the L96 system using an accurate time-stepping scheme (RK4 with sufficiently small $\\Delta t$), and plot the time evolution for the $X_k$ and $Y_{j,k}$ variables."
   ]
  },
  {
   "cell_type": "code",
   "execution_count": null,
   "id": "7f0d7a3f",
   "metadata": {},
   "outputs": [],
   "source": [
    "import numpy as np\n",
    "import matplotlib.pyplot as plt\n",
    "from L96_model import L96\n",
    "from L96_model import L96_eq1_xdot"
   ]
  },
  {
   "cell_type": "code",
   "execution_count": null,
   "id": "1d6f4844",
   "metadata": {},
   "outputs": [],
   "source": [
    "np.random.seed(23)\n",
    "W = L96(8, 32)\n",
    "\n",
    "%time X,Y,t = W.run(0.01, 20.)"
   ]
  },
  {
   "cell_type": "markdown",
   "id": "fd78d2c3-b1f6-41d9-bc9c-a8da4898b9b0",
   "metadata": {},
   "source": [
    "Here is the what the solution looks like:"
   ]
  },
  {
   "cell_type": "code",
   "execution_count": null,
   "id": "1a01ce7b",
   "metadata": {},
   "outputs": [],
   "source": [
    "plt.figure(figsize=(5, 4), dpi=150)\n",
    "\n",
    "plt.subplot(121)\n",
    "plt.contourf(W.k, t, X)\n",
    "plt.xlabel(\"k\")\n",
    "plt.ylabel(\"t\")\n",
    "plt.title(\"$X_k(t)$\")\n",
    "\n",
    "plt.subplot(122)\n",
    "plt.contourf(W.j / W.J, t, Y, levels=np.linspace(-1, 1, 10))\n",
    "plt.xlabel(\"k+j/J\")\n",
    "plt.ylabel(\"t\")\n",
    "plt.title(\"$Y_{j,k}(t)$\")\n",
    "\n",
    "plt.tight_layout()"
   ]
  },
  {
   "cell_type": "markdown",
   "id": "f63cb015",
   "metadata": {},
   "source": [
    "## The single time-scale model: Analog for a general circulation model (GCM)\n",
    "\n",
    "The two time-scale model discussed above solves a set of equations for the slow and fast variables, where the equations for the slow variables are:\n",
    "\n",
    "\\begin{align}\n",
    "\\frac{d}{dt} X_k\n",
    "&= - X_{k-1} \\left( X_{k-2} - X_{k+1} \\right) - X_k + F - \\underbrace{ \n",
    "\\left( \\frac{hc}{b} \\right) \\sum_{j=0}^{J-1} Y_{j,k}\n",
    "}_{=U_k} \\ ,\n",
    "\\end{align}\n",
    "\n",
    "where the effects of the fast scales on the slow scales are represented by the last term on the RHS, denoted as $U_k$, $k=1,\\ldots,k$. \n",
    "\n",
    "We consider the single time-scale model to be one where explicit equations for the fast scales are not solved, and so we do not know what $Y_{j,k}$ or subsequently $U_k$ are. In this single time-scale model the effects of the fast scales are either missing, assume $U_k=0$, or need to be parameterized in terms of the known slow time-scale variables, $P (X_k) \\approx U_k$."
   ]
  },
  {
   "cell_type": "markdown",
   "id": "fc65effa",
   "metadata": {},
   "source": [
    "### The parametization $P(X_k)$\n",
    "\n",
    "The one time-scale equation of the Lorenz-96 model with a parameterization for the effects of the fast time-scale or \"unresolved scales\", also called sub-grid forcing, can be written as:\n",
    "\\begin{align}\n",
    "\\frac{d}{dt} X_k\n",
    "&= - X_{k-1} \\left( X_{k-2} - X_{k+1} \\right) - X_k + F - P\\left( X_k \\right) \\ .\n",
    "\\end{align}\n",
    "\n",
    "In this notebook, we consider the particular choice of modeling the unknown parameterization with a plynomial approximation. \n",
    "Example of such a parameterization include the form proposed by\n",
    "{cite}`Wilks2005`: \n",
    "\\begin{equation*}\n",
    "P(X_k)=b_0 + b_1 X_k + b_2 X_k^2 + b_3 X_k^3 + b_4 X_k^4 + e_k\n",
    "\\end{equation*}\n",
    "where $e_k$ is a stochastic component. \n",
    "\n",
    "Alternatively, we also consider a lower-order polynomial as suggested by\n",
    "{cite}`Arnold2013`: \n",
    "\\begin{equation*}\n",
    "P(X_k)=b_0 + b_1 X_k + e_k\n",
    "\\end{equation*}\n",
    "\n",
    "In summary: with the \"real world atmosphere\" system in hand, we can \"observe\" the effect of the sub-grid forcing on the large scale ($U_k$) and test the skill of the polynomial function, $P(X_k)$, models/parameterizations."
   ]
  },
  {
   "cell_type": "markdown",
   "id": "3f8afa32-cf28-4401-becd-65bb311e320d",
   "metadata": {},
   "source": [
    "\n",
    "In the following code segment, we solve the one time-scale Lorenz-96 system using an inaccurate time-stepping (Euler-forward with only-just stable $\\Delta t$) and an unknown parameterization of the \"unresolved processes\", $P(X_k)$. "
   ]
  },
  {
   "cell_type": "code",
   "execution_count": null,
   "id": "934f3a28",
   "metadata": {},
   "outputs": [],
   "source": [
    "%time X, Y, t = W.run(0.05, 200.) # We run the 2 time-scale model again for longer time, to generate more data."
   ]
  },
  {
   "cell_type": "code",
   "execution_count": null,
   "id": "ff240f58",
   "metadata": {},
   "outputs": [],
   "source": [
    "X_copy = X\n",
    "# Generate U_k samples from 2 time-scale model\n",
    "U_sample = (W.h * W.c / W.b) * Y.reshape((Y.shape[0], W.K, W.J)).sum(axis=-1)"
   ]
  },
  {
   "cell_type": "markdown",
   "id": "ed0a0e4b",
   "metadata": {},
   "source": [
    "We now compare the results obtained with a linear polynomial approximation, {cite:t}`Wilks2005` polynomial parameterization and the \"truth\" values of the coupling terms."
   ]
  },
  {
   "cell_type": "code",
   "execution_count": null,
   "id": "eae31105-17af-4c41-9d4d-5bef728ff21c",
   "metadata": {},
   "outputs": [],
   "source": [
    "# Fit polynomial of order 1.\n",
    "p1 = np.polyfit(\n",
    "    X_copy.flatten(), U_sample.flatten(), 1\n",
    ")  # Fit a linear curve through the data.\n",
    "print(\"Poly coeffs:\", p1)\n",
    "\n",
    "p4 = [\n",
    "    0.000707,\n",
    "    -0.0130,\n",
    "    -0.0190,\n",
    "    1.59,\n",
    "    0.275,\n",
    "]  # Polynomial from Wilks, 2005 (coefficients from paper)"
   ]
  },
  {
   "cell_type": "code",
   "execution_count": null,
   "id": "06794e2b",
   "metadata": {},
   "outputs": [],
   "source": [
    "plt.figure(dpi=150)\n",
    "# 2D histogram of X vs U\n",
    "plt.hist2d(X_copy.flatten(), U_sample.flatten(), bins=50, density=True)\n",
    "plt.xlabel(\"$X_k$\")\n",
    "plt.ylabel(r\"$U_k = \\frac{hc}{b}\\sum_j Y_{j,k}$\")\n",
    "plt.colorbar(label=\"PDF\")\n",
    "\n",
    "# Fits from polynomials\n",
    "x = np.linspace(-12, 18, 100)\n",
    "plt.plot(x, np.polyval(p4, x), label=\"$P_4(X_k)$ - Wilks, 2005\")\n",
    "plt.plot(x, np.polyval(p1, x), \"--\", label=\"$P_1(X_k)$\")\n",
    "\n",
    "\n",
    "plt.legend(fontsize=7);"
   ]
  },
  {
   "cell_type": "markdown",
   "id": "02669085-8725-456d-9100-5a31f92f2db0",
   "metadata": {},
   "source": [
    "The figure above shows that the the relationship between the slow variables ($X_k$) and the observed coupling term ($U_k$) is non-linear. The higher order polynomlial, since it is more flexible, does a better job at capturing the overall pattern, relative to the linear fit. "
   ]
  },
  {
   "cell_type": "markdown",
   "id": "e42cd286",
   "metadata": {},
   "source": [
    "## Testing the effect of parameterizations in the \"GCM\" model\n",
    "\n",
    "Now that we have a couple of different candidate parameterizations that can roughly predict the relationship between the slow variables and sub-grid forcing, we test their impact in a GCM simulation where the parameterization is required. We compare four simulations:\n",
    "- \"Real world\": corresponding to the \"truth\" model goverened by the full two time-scale Lorenz-96 system.\n",
    "- GCM without parameterization: corresponding to the one time-scale Lorenz-96 system without any the coupling term. We use a forward-Euler scheme to integrate the model forward.\n",
    "- GCM with our parameterization: corresponding to the one time-scale Lorenz-96 system with the linear polynomial approximation of the coupling terms as obtained above.\n",
    "- GCM with {cite}`Wilks2005` parameterization: corresponding to the one time-scale Lorenz-96 system with a third-order polynomial approximation of the coupling terms."
   ]
  },
  {
   "cell_type": "code",
   "execution_count": null,
   "id": "724df9e2",
   "metadata": {},
   "outputs": [],
   "source": [
    "# First we define the GCM\n",
    "def GCM(X0, F, dt, nt, param=[0]):\n",
    "    time, hist, X = dt * np.arange(nt), np.zeros((nt, len(X0))) * np.nan, X0.copy()\n",
    "\n",
    "    for n in range(nt):\n",
    "        X = X + dt * (L96_eq1_xdot(X, F) - np.polyval(param, X))\n",
    "        if np.abs(X).max() > 1e3:\n",
    "            break\n",
    "        hist[n], time[n] = X, dt * (n + 1)\n",
    "    return hist, time"
   ]
  },
  {
   "cell_type": "code",
   "execution_count": null,
   "id": "9579b622",
   "metadata": {},
   "outputs": [],
   "source": [
    "np.random.seed(13)\n",
    "T = 5\n",
    "# Real world\n",
    "X_true, Y_true, T_true = W.randomize_IC().run(0.05, T)\n",
    "X_init, dt, F_mod = X_true[0] + 0.0 * np.random.randn(W.K), 0.002, W.F + 0.0\n",
    "# The reason for adding the zero terms to X and F will become clear below, where the amplitude will be increased.\n",
    "\n",
    "# no parameterization\n",
    "X_gcm1, T_gcm1 = GCM(X_init, F_mod, dt, int(T / dt))\n",
    "# Linear parameterization\n",
    "X_gcm2, T_gcm2 = GCM(X_init, F_mod, dt, int(T / dt), param=p1)\n",
    "# Wilks parameterization - 4th order polynomial.\n",
    "X_gcm3, T_gcm3 = GCM(X_init, F_mod, dt, int(T / dt), param=p4)"
   ]
  },
  {
   "cell_type": "markdown",
   "id": "6a3f04e9-78bc-4af1-bb9b-31370693a20a",
   "metadata": {},
   "source": [
    "Now we look at Hovmoeller plots of the different solutions."
   ]
  },
  {
   "cell_type": "code",
   "execution_count": null,
   "id": "1bb832df",
   "metadata": {},
   "outputs": [],
   "source": [
    "plt.figure(dpi=150, figsize=(17, 4))\n",
    "lims = {\"vmin\": -12, \"vmax\": 12, \"levels\": np.linspace(-12, 12, 12), \"extend\": \"both\"}\n",
    "plt.subplot(141)\n",
    "plt.contourf(W.k, T_true + t[-1], X_true, **lims)\n",
    "plt.xlabel(\"$k$\")\n",
    "plt.ylabel(\"$t$\")\n",
    "plt.title(\"Real world\")\n",
    "plt.subplot(142)\n",
    "plt.contourf(W.k, T_gcm1 + t[-1], X_gcm1, **lims)\n",
    "plt.xlabel(\"$k$\")\n",
    "plt.ylabel(\"$t$\")\n",
    "plt.title(\"GCM without parameterization\")\n",
    "plt.subplot(143)\n",
    "plt.contourf(W.k, T_gcm3 + t[-1], X_gcm2, **lims)\n",
    "plt.xlabel(\"$k$\")\n",
    "plt.ylabel(\"$t$\")\n",
    "plt.title(\"GCM with linear parameterization\")\n",
    "plt.subplot(144)\n",
    "plt.contourf(W.k, T_gcm2 + t[-1], X_gcm3, **lims)\n",
    "plt.xlabel(\"$k$\")\n",
    "plt.ylabel(\"$t$\")\n",
    "plt.title(\"GCM with Wilks' parameterization\")\n",
    "\n",
    "plt.tight_layout()"
   ]
  },
  {
   "cell_type": "markdown",
   "id": "aed7579a",
   "metadata": {},
   "source": [
    "The next plot shows the temporal evolution of the variable $X_3$ obtained with the four models listed above."
   ]
  },
  {
   "cell_type": "code",
   "execution_count": null,
   "id": "f5815467",
   "metadata": {},
   "outputs": [],
   "source": [
    "k = 3\n",
    "plt.figure(dpi=150)\n",
    "plt.plot(T_true + t[-1], X_true[:, k], \"--\", label=\"Real world\")\n",
    "plt.plot(T_gcm1 + t[-1], X_gcm1[:, k], \":\", label=\"GCM without parameterization\")\n",
    "plt.plot(T_gcm1 + t[-1], X_gcm2[:, k], label=\"GCM with our parameterization\")\n",
    "plt.plot(T_gcm1 + t[-1], X_gcm3[:, k], label=\"GCM with Wilks parameterization\")\n",
    "plt.xlabel(\"$t$\")\n",
    "plt.ylabel(\"$X_3(t)$\")\n",
    "plt.legend(fontsize=7, loc=1)\n",
    "plt.ylim(-10, 25);"
   ]
  },
  {
   "cell_type": "markdown",
   "id": "082fcc26-72a5-43bb-a764-159d14155605",
   "metadata": {},
   "source": [
    "As seen above, all the simulation diverge at long times,and the unparameterized simulation diverges very rapidly. On the other hand, the parameterized GCMs track the \"real world\" solution better. The Wilks parameterization does better than the linear fit."
   ]
  },
  {
   "cell_type": "markdown",
   "id": "c200d831",
   "metadata": {},
   "source": [
    "## Sources of model error\n",
    "\n",
    "We consider the following five sources of error:\n",
    "\n",
    "1. Missing physics: which is modeled with a GCM without parameterization that corresponds to the one time-scale Lorenz-96 system without any the coupling term.\n",
    "2. Poorly parameterized unresolved physics: which is studied by considering a first-order and third-order polynomial approximations of the coupling terms:\n",
    "    \\begin{equation*}\n",
    "    P_4 \\rightarrow P_1\n",
    "    \\end{equation*}\n",
    "3. Unknown forcing: which is modeled by adding an error to the forcing term:\n",
    "    \\begin{equation*}\n",
    "    F \\rightarrow F + error\n",
    "    \\end{equation*}\n",
    "4. Numerical approximation: which is studied by increasing the time-step:\n",
    "    \\begin{equation*}\n",
    "    \\Delta t \\rightarrow 10 \\Delta t\n",
    "    \\end{equation*}\n",
    "5. Initialization error: which is modeled by adding an error to the initial condition:\n",
    "    \\begin{equation*}\n",
    "    X(t=0) \\rightarrow X(t=0) + error\n",
    "    \\end{equation*}\n",
    "  \n",
    "The next code estimates these sources of error and the next figure shows their relative contributions. For reference, we also plot the error of the GCM using {cite}`Wilks2005` polynomial coupling term and without any of the sources of error listed above. All errors are evaluated by comparing the GCMs to the \"truth\" model goverened by the full two time-scale Lorenz-96 system."
   ]
  },
  {
   "cell_type": "code",
   "execution_count": null,
   "id": "94266f66",
   "metadata": {},
   "outputs": [],
   "source": [
    "def err(X, X_true):\n",
    "    return np.sqrt(((X - X_true[1:, :]) ** 2).mean(axis=1))"
   ]
  },
  {
   "cell_type": "code",
   "execution_count": null,
   "id": "ac08e1e7",
   "metadata": {},
   "outputs": [],
   "source": [
    "np.random.seed(13)\n",
    "T, dt = 2, 0.001\n",
    "X_tr, _, _ = W.randomize_IC().set_param(0.0001).run(dt, T)\n",
    "X_gcm, T_c = GCM(W.X, W.F, dt, int(T / dt), param=p4)\n",
    "X_frc, T_c = GCM(W.X, W.F + 1.0, dt, int(T / dt), param=p4)\n",
    "X_ic, T_c = GCM(W.X + 0.5, W.F, dt, int(T / dt), param=p4)\n",
    "X_dt, T_dt = GCM(W.X, W.F, 10 * dt, int(T / dt / 10), param=p4)\n",
    "X_phys, _ = GCM(W.X, W.F, dt, int(T / dt))\n",
    "X_prm, _ = GCM(W.X, W.F, dt, int(T / dt), param=p1)"
   ]
  },
  {
   "cell_type": "code",
   "execution_count": null,
   "id": "0e27da0b",
   "metadata": {},
   "outputs": [],
   "source": [
    "plt.figure(dpi=150)\n",
    "plt.plot(T_c, err(X_gcm, X_tr), label=\"GCM\")\n",
    "plt.plot(T_c, err(X_phys, X_tr), label=\"Missing physics\")\n",
    "plt.plot(T_c, err(X_prm, X_tr), label=\"Parameterization\")\n",
    "plt.plot(T_c, err(X_frc, X_tr), label=\"Unknown forcing\")\n",
    "plt.plot(T_dt, err(X_dt, X_tr[::10]), label=\"Numerical approximation\")\n",
    "plt.plot(T_c, err(X_ic, X_tr), label=\"Initialization error\")\n",
    "plt.xlabel(\"$t$\")\n",
    "plt.ylabel(\"Error\")\n",
    "plt.legend(fontsize=7);"
   ]
  },
  {
   "cell_type": "markdown",
   "id": "885d4942",
   "metadata": {},
   "source": [
    "For this particular set of parameter values, the removal of the coupling term results in the highest error. The second and third sources of error correspond to the numerical error (introduced by increasing the time-step) and to the error resulting form poorly parameterized unresolved physics (modeled by consideing a first-order polynomial approximation of the coupling terms) respectively.\n",
    "\n",
    "The errors introduced by an unknown forcing and a different initialization are the least among the sources of errors considered."
   ]
  },
  {
   "cell_type": "markdown",
   "id": "43f0dd3f",
   "metadata": {},
   "source": [
    "## Stochastic parameterizations\n",
    "\n",
    "Next, we run the following two variations of two time-scale Lorenz-96:\n",
    "1. The GCM with our parameterization corresponding to the one time-scale Lorenz-96 system, with the linear polynomial approximation of the coupling terms.\n",
    "2. The GCM with {cite}`Wilks2005` parameterization corresponding to the one time-scale Lorenz-96 system with a third-order polynomial approximation of the coupling terms."
   ]
  },
  {
   "cell_type": "code",
   "execution_count": null,
   "id": "d0d5f104",
   "metadata": {},
   "outputs": [],
   "source": [
    "# Build a 100-\"day\" climatology\n",
    "\n",
    "T, dt = 100.0, 0.001\n",
    "%time X_clim,Y_clim,T_clim = W.run(0.1, T)\n",
    "%time X1,t1 = GCM(X_init, F_mod, dt, int(T/dt), param=p1)\n",
    "%time X2,t2 = GCM(X_init, F_mod, dt, int(T/dt), param=p4)"
   ]
  },
  {
   "cell_type": "markdown",
   "id": "20aec9e7",
   "metadata": {},
   "source": [
    "We compare the mean values of the slow variables $X_k$ , $k=1,\\ldots,K$."
   ]
  },
  {
   "cell_type": "code",
   "execution_count": null,
   "id": "a739eaab",
   "metadata": {},
   "outputs": [],
   "source": [
    "plt.figure(dpi=150)\n",
    "plt.plot(\n",
    "    t1, X1.mean(axis=1), label=\"Model with linear parameterization %.2f\" % (X1.mean())\n",
    ")\n",
    "plt.plot(T_clim, X_clim.mean(axis=1), label=\"Real world, %.2f\" % (X_true.mean()))\n",
    "plt.plot(t2, X2.mean(axis=1), label=\"Model with Wilks, %.2f\" % (X2.mean()))\n",
    "plt.xlabel(\"$t$\")\n",
    "plt.ylabel(r\"$\\frac{1}{K}\\sum_{k=1}^K X_k(t)$\")\n",
    "plt.legend(fontsize=7);"
   ]
  },
  {
   "cell_type": "code",
   "execution_count": null,
   "id": "db7c78d1",
   "metadata": {},
   "outputs": [],
   "source": [
    "print(\"\\n\\n       Truth      P1   Wilks\")\n",
    "print(\"mean:  %.3f   %.3f   %.3f\" % (X_true.mean(), X1.mean(), X2.mean()))\n",
    "print(\"std:   %.3f   %.3f   %.3f\" % (X_true.std(), X1.std(), X2.std()))"
   ]
  },
  {
   "cell_type": "markdown",
   "id": "c195d28d",
   "metadata": {},
   "source": [
    "As expected, the {cite}`Wilks2005` parameterization gives a mean value of the slow variables that is closer to the one obtained with the \"truth\" model compared to the model with linear parameterization since {cite}`Wilks2005` coupling term is modeled with a third-order polynomial.\n",
    "\n",
    "Next, we consider the model with the full parameterization proposed by {cite}`Wilks2005` by adding a stochastic component such that the parameterization has the following form: $P(X_k)=b_0 + b_1 X_k + b_2 X_k^2 + b_3 X_k^3 + b_4 X_k^4 + e_k$ where $e_k$ is a stochastic component."
   ]
  },
  {
   "cell_type": "code",
   "execution_count": null,
   "id": "fec51c41",
   "metadata": {},
   "outputs": [],
   "source": [
    "def GCMs(X0, F, dt, nt, param=[0], stoch=1.0, phi=0.984):\n",
    "    time, hist, X = dt * np.arange(nt), np.zeros((nt, len(X0))) * np.nan, X0.copy()\n",
    "    ek = np.zeros(X.size)\n",
    "\n",
    "    for n in range(nt):\n",
    "        # Red noise\n",
    "        ek = phi * ek + stoch * np.sqrt((1 - phi) * (1 + phi)) * np.random.randn(X.size)\n",
    "        X = X + dt * (L96_eq1_xdot(X, F) - np.polyval(param, X) + stoch * ek)\n",
    "        if np.abs(X).max() > 1e3:\n",
    "            break\n",
    "        hist[n], time[n] = X, dt * (n + 1)\n",
    "    return hist, time"
   ]
  },
  {
   "cell_type": "code",
   "execution_count": null,
   "id": "2ef1a258",
   "metadata": {},
   "outputs": [],
   "source": [
    "np.random.seed(31)\n",
    "%time X3,t3 = GCMs(X_init, F_mod, dt, int(T/dt), param=p4)\n",
    "\n",
    "print(\"\\n\\n       Truth      P1      P4  P4+stoch\")\n",
    "print(\n",
    "    \"mean:  %.3f   %.3f   %.3f   %.3f\"\n",
    "    % (X_true.mean(), X1.mean(), X2.mean(), X3.mean())\n",
    ")\n",
    "print(\"std:   %.3f   %.3f   %.3f   %.3f\" % (X_true.std(), X1.std(), X2.std(), X3.std()))"
   ]
  },
  {
   "cell_type": "markdown",
   "id": "fcd4a79b",
   "metadata": {},
   "source": [
    "By comparing the mean and standard deviation values of the slow variables $X_k$ , $k=1,\\ldots,K$, we do not see a significant improvement when adding the stochastic component $e_k$ to the third-order polynomial parameterization."
   ]
  },
  {
   "cell_type": "code",
   "execution_count": null,
   "id": "fafb47e7",
   "metadata": {},
   "outputs": [],
   "source": [
    "plt.figure(dpi=150)\n",
    "plt.plot(T_true, X_true.mean(axis=1), label=\"Real world, %.2f\" % (X_true.mean()))\n",
    "plt.plot(\n",
    "    t1, X1.mean(axis=1), label=\"Model with linear parameterization %.2f\" % (X1.mean())\n",
    ")\n",
    "plt.plot(t2, X2.mean(axis=1), label=\"Model with Wilks, %.2f\" % (X2.mean()))\n",
    "plt.plot(\n",
    "    t3,\n",
    "    X3.mean(axis=1),\n",
    "    label=\"Model with Wilks + stochastic component %.2f\" % (X3.mean()),\n",
    ")\n",
    "plt.xlabel(\"$t$\")\n",
    "plt.ylabel(r\"$\\frac{1}{K}\\sum_{k=1}^K X_k(t)$\")\n",
    "plt.legend(fontsize=7);"
   ]
  },
  {
   "cell_type": "markdown",
   "id": "b33704fc",
   "metadata": {},
   "source": [
    "## Summary\n",
    "\n",
    "In this chapter:\n",
    "- We used the two time-scale Lorenz-96 model to generate a real world, or \"truth\", dataset\n",
    "- We built a \"GCM\" with a rudimentary parameterization of coupling to unresolved processes ($\\left( \\frac{hc}{b} \\right) \\sum_{j=0}^{J-1} Y_{j,k}$)\n",
    "- We deliberately used low-order integration and longer time-step for non-trivial numerical model errors.\n",
    "- We compared the few different sources of errors in models.\n",
    "- We also compared the results obtained:\n",
    "  1. A GCM corresponding to the one time-scale Lorenz-96 system with a linear polynomial parameterization of the coupling terms.\n",
    "  2. A GCM with {cite}`Wilks2005` parameterization corresponding to the one time-scale Lorenz-96 system with a third-order polynomial approximation of the coupling terms.\n",
    "  3. A GCM with the full {cite}`Wilks2005` parameterization corresponding to the one time-scale Lorenz-96 system with a third-order polynomial approximation of the coupling terms and a stochastic component."
   ]
  }
 ],
 "metadata": {
  "kernelspec": {
   "display_name": "Python 3 (ipykernel)",
   "language": "python",
   "name": "python3"
  },
  "language_info": {
   "codemirror_mode": {
    "name": "ipython",
    "version": 3
   },
   "file_extension": ".py",
   "mimetype": "text/x-python",
   "name": "python",
   "nbconvert_exporter": "python",
   "pygments_lexer": "ipython3",
   "version": "3.10.9"
  }
 },
 "nbformat": 4,
 "nbformat_minor": 5
}
