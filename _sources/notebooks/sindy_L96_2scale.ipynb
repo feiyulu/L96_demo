{
 "cells": [
  {
   "cell_type": "markdown",
   "id": "f37e1144-636c-4e98-b40d-1205c665d96f",
   "metadata": {},
   "source": [
    "# Applying SINDy equation identification to L96"
   ]
  },
  {
   "cell_type": "markdown",
   "id": "7cd0aa75-b52a-4b0b-b5ec-df2ac8c1bd86",
   "metadata": {
    "tags": []
   },
   "source": [
    "## Outline"
   ]
  },
  {
   "cell_type": "markdown",
   "id": "42566028-fe9c-4c50-8582-b5e217d6394d",
   "metadata": {},
   "source": [
    "This notebook provides an example of SINDy equation identification in application to the two-scale L96 model with the use of `pysindy` library. The objective is to try to identify the governing ODEs for the large-scale variable ($X_i$) if we know only their time measurements. In other words, we want to see how well the SINDy model can capture the form of the governing equations for large-scale variables in the presence of the subgrid forcing by small-scale variables ($Y$) when there is no measurements of the small scales."
   ]
  },
  {
   "cell_type": "markdown",
   "id": "1f222842-0a8a-4069-addf-55fc44d24dd2",
   "metadata": {},
   "source": [
    "## Import"
   ]
  },
  {
   "cell_type": "code",
   "execution_count": null,
   "id": "73bbfeec-72e6-4d81-89b0-e5369671dff9",
   "metadata": {},
   "outputs": [],
   "source": [
    "import numpy as np\n",
    "import pysindy as ps\n",
    "import matplotlib.pyplot as plt\n",
    "import seaborn as sns\n",
    "from L96_model import L96, L96_eq1_xdot, integrate_L96_2t, integrate_L96_1t"
   ]
  },
  {
   "cell_type": "markdown",
   "id": "866c8025-f383-4b05-ab30-b75945223edc",
   "metadata": {
    "tags": []
   },
   "source": [
    "## Routines for plotting"
   ]
  },
  {
   "cell_type": "code",
   "execution_count": null,
   "id": "22c47249-5ac0-475e-a28b-54f725ad5ecf",
   "metadata": {},
   "outputs": [],
   "source": [
    "colors = [\n",
    "    \"#1f77b4\",\n",
    "    \"#ff7f0e\",\n",
    "    \"#2ca02c\",\n",
    "    \"#d62728\",\n",
    "    \"#9467bd\",\n",
    "    \"#8c564b\",\n",
    "    \"#e377c2\",\n",
    "    \"#7f7f7f\",\n",
    "    \"#bcbd22\",\n",
    "    \"#17becf\",\n",
    "]"
   ]
  },
  {
   "cell_type": "code",
   "execution_count": null,
   "id": "a0461f22-0ffd-4c84-abe0-3e2844a135f6",
   "metadata": {},
   "outputs": [],
   "source": [
    "def plot_coefficients(\n",
    "    coefficients, input_features=None, feature_names=None, ax=None, **heatmap_kws\n",
    "):\n",
    "    if input_features is None:\n",
    "        input_features = [f\"$\\dot x_{k}$\" for k in range(coefficients.shape[0])]\n",
    "    else:\n",
    "        input_features = [f\"$\\dot {fi}$\" for fi in input_features]\n",
    "\n",
    "    if feature_names is None:\n",
    "        feature_names = [f\"f{k}\" for k in range(coefficients.shape[1])]\n",
    "\n",
    "    with sns.axes_style(style=\"white\", rc={\"axes.facecolor\": (0, 0, 0, 0)}):\n",
    "        if ax is None:\n",
    "            fig, ax = plt.subplots(1, 1)\n",
    "\n",
    "        max_mag = np.max(np.abs(coefficients))\n",
    "        heatmap_args = {\n",
    "            \"xticklabels\": input_features,\n",
    "            \"yticklabels\": feature_names,\n",
    "            \"center\": 0.0,\n",
    "            \"cmap\": sns.color_palette(\"vlag\", n_colors=20, as_cmap=True),\n",
    "            \"ax\": ax,\n",
    "            \"linewidths\": 0.1,\n",
    "            \"linecolor\": \"whitesmoke\",\n",
    "        }\n",
    "        heatmap_args.update(**heatmap_kws)\n",
    "\n",
    "        sns.heatmap(coefficients.T, **heatmap_args)\n",
    "\n",
    "        ax.tick_params(axis=\"y\", rotation=0)\n",
    "\n",
    "    return ax"
   ]
  },
  {
   "cell_type": "code",
   "execution_count": null,
   "id": "d37f0cf2-e597-428a-bb64-4fbe0e424ce4",
   "metadata": {},
   "outputs": [],
   "source": [
    "def signed_sqrt(x):\n",
    "    return np.sign(x) * np.sqrt(np.abs(x))"
   ]
  },
  {
   "cell_type": "code",
   "execution_count": null,
   "id": "10ce16bc-e99a-4260-b132-940e6af15bb8",
   "metadata": {},
   "outputs": [],
   "source": [
    "def compare_coefficient_plots(coefficients, input_features=None, feature_names=None):\n",
    "    n_cols = len(coefficients)\n",
    "    with sns.axes_style(style=\"white\", rc={\"axes.facecolor\": (0, 0, 0, 0)}):\n",
    "        max_mag = np.max(np.abs(coefficients))\n",
    "        fig, axs = plt.subplots(1, 1, figsize=(4, 4), sharey=True, sharex=True)\n",
    "        plot_coefficients(\n",
    "            signed_sqrt(coefficients),\n",
    "            input_features=input_features,\n",
    "            feature_names=feature_names,\n",
    "            ax=axs,\n",
    "            cbar=False,\n",
    "            vmax=max_mag,\n",
    "            vmin=-max_mag,\n",
    "        )\n",
    "        fig.tight_layout()"
   ]
  },
  {
   "cell_type": "markdown",
   "id": "28330e77-e8c5-42ba-b01d-d4088155c397",
   "metadata": {
    "tags": [],
    "user_expressions": []
   },
   "source": [
    "## L96 two-scale model\n",
    "\n",
    "```{figure} https://www.researchgate.net/publication/319201436/figure/fig1/AS:869115023589376@1584224577926/Visualisation-of-a-two-scale-Lorenz-96-system-with-J-8-and-K-6-Global-scale-values.png\n",
    ":width: 400px\n",
    ":name: l96-equation-figure-sindy2scale\n",
    "\n",
    "*Visualisation of a two-scale Lorenz '96 system with J = 8 and K = 6. Global-scale variables ($X_k$) are updated based on neighbouring variables and on the local-scale variables ($Y_{j,k}$) associated with the corresponding global-scale variable. Local-scale variabless are updated based on neighbouring variables and the associated global-scale variable. The neighbourhood topology of both local and global-scale variables is circular. Image from [Exploiting the chaotic behaviour of atmospheric models with reconfigurable architectures - Scientific Figure on ResearchGate.](https://www.researchgate.net/figure/Visualisation-of-a-two-scale-Lorenz-96-system-with-J-8-and-K-6-Global-scale-values_fig1_319201436)*.\n",
    "```"
   ]
  },
  {
   "cell_type": "markdown",
   "id": "a5fa3dff-b284-4f82-a641-8c5ef42880f8",
   "metadata": {},
   "source": [
    "Two-time-scale Lorenz 96 model:\n",
    "$$ \\frac{d}{dt} X_k = - X_{k-2} X_{k-1} + X_{k-1} X_{k+1} - X_k + F - \\left( \\frac{hc}{b} \\right) \\sum_{j=0}^{J-1} Y_{j,k} $$\n",
    "$$ \\frac{d}{dt} Y_{j,k} = - c b Y_{j+1,k} (Y_{j+2,k} - Y_{j-1,k}) - c Y_{j,k} + \\left( \\frac{hc}{b} \\right) \\sum_{j=0}^{J-1} X_{k} $$"
   ]
  },
  {
   "cell_type": "markdown",
   "id": "f6611d39-a079-4809-b7ce-a740f0ecf374",
   "metadata": {},
   "source": [
    "We will put K=8 large-scale variables ($X$), for each of them there is J=32 small-scale variables ($Y$). For the first example, we will consider the case of **weak** interaction between the scales, which is defined by the parameter $h$ in the L96 class."
   ]
  },
  {
   "cell_type": "code",
   "execution_count": null,
   "id": "771cc013-8731-4885-ae69-00cc19161486",
   "metadata": {},
   "outputs": [],
   "source": [
    "K = 8  # Number of degrees of freedom for X\n",
    "J = 32  # Number of degrees of freedom for Y per X\n",
    "Forcing = 18.0  # Model parameter\n",
    "h = 0.1  # WEAK coupling"
   ]
  },
  {
   "cell_type": "code",
   "execution_count": null,
   "id": "32c16a5e-5db9-4a96-88bd-f5e9c39d7179",
   "metadata": {},
   "outputs": [],
   "source": [
    "def s(k, K):\n",
    "    \"\"\"A non-dimension coordinate from -1..+1 corresponding to k=0..K\"\"\"\n",
    "    return 2 * (0.5 + k) / K - 1"
   ]
  },
  {
   "cell_type": "code",
   "execution_count": null,
   "id": "88ba9965-c64f-4194-86b4-d2ddba8081ef",
   "metadata": {},
   "outputs": [],
   "source": [
    "# Initial conditions\n",
    "k = np.arange(K)  # For coordinate in plots\n",
    "j = np.arange(J * K)  # For coordinate in plots\n",
    "# Initial conditions\n",
    "X_init = s(k, K) * (s(k, K) - 1) * (s(k, K) + 1)\n",
    "Y_init = 0 * s(j, J * K) * (s(j, J * K) - 1) * (s(j, J * K) + 1)"
   ]
  },
  {
   "cell_type": "code",
   "execution_count": null,
   "id": "2225caa3-bcd8-4b9f-8049-6fb17a8f7c66",
   "metadata": {},
   "outputs": [],
   "source": [
    "steps = 1000\n",
    "dt = 0.005"
   ]
  },
  {
   "cell_type": "code",
   "execution_count": null,
   "id": "128356d3-b283-4b07-97f3-bc675ab77c10",
   "metadata": {},
   "outputs": [],
   "source": [
    "# Create a \"real world\" with K=8 and J=32\n",
    "W = L96(K, J, F=Forcing, h=h)\n",
    "W.set_state(X_init, Y_init)\n",
    "# Run the true state\n",
    "X, Y, t = W.run(dt, dt * steps, store=True)"
   ]
  },
  {
   "cell_type": "code",
   "execution_count": null,
   "id": "8958b6da-690f-451a-8d83-88cbc3403b29",
   "metadata": {},
   "outputs": [],
   "source": [
    "fig, ax = plt.subplots(1, 1, figsize=(6, 4), dpi=150)\n",
    "contours = ax.contourf(k, t, X, levels=20)\n",
    "fig.colorbar(contours)\n",
    "ax.set(xlabel=\"k\", ylabel=\"t\")\n",
    "plt.show();"
   ]
  },
  {
   "cell_type": "markdown",
   "id": "12b86c0a-3618-4a2f-abf8-0c9f74dcc240",
   "metadata": {},
   "source": [
    "The data array $X$ will be used for the system identification by SINDy method. We suppose that we do not dispose measurements for the small-scale variables $Y$, so their contribution to the large-scale dymanics will basically treated as noise."
   ]
  },
  {
   "cell_type": "markdown",
   "id": "48efefd9-6716-43fc-b45e-7428249a366d",
   "metadata": {},
   "source": [
    "## Define SINDy model"
   ]
  },
  {
   "cell_type": "markdown",
   "id": "9357c676-12bd-4a64-b609-3fe594201f4e",
   "metadata": {},
   "source": [
    "The goal is to identify the governing equations for the large-scale variables $X$, having the measurement for them."
   ]
  },
  {
   "cell_type": "code",
   "execution_count": null,
   "id": "71be9da9-d2c4-40d4-b69a-d9eee9c694b7",
   "metadata": {},
   "outputs": [],
   "source": [
    "differentiation_method = ps.SINDyDerivative(kind=\"finite_difference\", k=1)"
   ]
  },
  {
   "cell_type": "code",
   "execution_count": null,
   "id": "a87dddfb-1980-47c2-9d35-622a1e8bcc58",
   "metadata": {},
   "outputs": [],
   "source": [
    "feature_library = ps.PolynomialLibrary(degree=2)"
   ]
  },
  {
   "cell_type": "code",
   "execution_count": null,
   "id": "7e386c41-5682-4b3d-bcf4-399b14b36f2f",
   "metadata": {},
   "outputs": [],
   "source": [
    "# sequential thresholded least squares optimizer\n",
    "optimizer = ps.STLSQ(threshold=0.3)"
   ]
  },
  {
   "cell_type": "code",
   "execution_count": null,
   "id": "1ee1517b-85da-4231-a8f6-9c8966aae990",
   "metadata": {},
   "outputs": [],
   "source": [
    "model = ps.SINDy(\n",
    "    differentiation_method=differentiation_method,\n",
    "    feature_library=feature_library,\n",
    "    optimizer=optimizer,\n",
    "    feature_names=[(\"x\" + str(i)) for i in k],\n",
    ")"
   ]
  },
  {
   "cell_type": "markdown",
   "id": "720353b2-8448-4836-ac52-e462b5afe5ef",
   "metadata": {},
   "source": [
    "# Optimize coefficients"
   ]
  },
  {
   "cell_type": "code",
   "execution_count": null,
   "id": "d0ef6b41-cd32-4cbb-9514-c238b2a7b8ad",
   "metadata": {},
   "outputs": [],
   "source": [
    "model.fit(X, t=t)"
   ]
  },
  {
   "cell_type": "code",
   "execution_count": null,
   "id": "725d681c-b7fb-4d9a-aac0-65ffa9f970fa",
   "metadata": {},
   "outputs": [],
   "source": [
    "feature_names = feature_library.get_feature_names()\n",
    "print(feature_names)"
   ]
  },
  {
   "cell_type": "code",
   "execution_count": null,
   "id": "254779b5-cc18-4280-9a1b-421844bddffc",
   "metadata": {},
   "outputs": [],
   "source": [
    "model.print()"
   ]
  },
  {
   "cell_type": "code",
   "execution_count": null,
   "id": "ed037830-d9ec-4a4a-98d5-227f5395eb72",
   "metadata": {},
   "outputs": [],
   "source": [
    "model.score(X, t=t[1] - t[0])"
   ]
  },
  {
   "cell_type": "code",
   "execution_count": null,
   "id": "d4caf05c-7ae9-44da-b456-63f3db11ea3c",
   "metadata": {},
   "outputs": [],
   "source": [
    "model.coefficients()"
   ]
  },
  {
   "cell_type": "code",
   "execution_count": null,
   "id": "9966ea81-0724-4a1b-87d6-79f40ffcc6bf",
   "metadata": {},
   "outputs": [],
   "source": [
    "with sns.axes_style(style=\"white\", rc={\"axes.facecolor\": (0, 0, 0, 0)}):\n",
    "    max_mag = np.max(np.abs(model.coefficients()))\n",
    "    fig, axs = plt.subplots(\n",
    "        1, 1, figsize=(8, 10), sharey=True, sharex=True, tight_layout=True\n",
    "    )\n",
    "    plot_coefficients(\n",
    "        model.coefficients(),\n",
    "        input_features=[(\"x\" + str(i)) for i in k],\n",
    "        feature_names=feature_names,\n",
    "        ax=axs,\n",
    "        cbar=True,\n",
    "        vmax=max_mag,\n",
    "        vmin=-max_mag,\n",
    "        cmap=\"seismic\",\n",
    "    )\n",
    "    axs.set(title=\"SINDy coefficients\")"
   ]
  },
  {
   "cell_type": "markdown",
   "id": "9da63499-fe14-49c3-a99b-c96416b764b6",
   "metadata": {},
   "source": [
    "We can see that the SINDy model captures correctly the dominant terms and gives quite accurate predictions for the model coefficients and the value of the forcing. The subgrid forcing does not appear in this prediction."
   ]
  },
  {
   "cell_type": "markdown",
   "id": "fa412ba4-4c36-494d-a805-638a632ac731",
   "metadata": {},
   "source": [
    "## Compare"
   ]
  },
  {
   "cell_type": "markdown",
   "id": "1a6c62ed-60e5-4496-84df-32d10716d874",
   "metadata": {},
   "source": [
    "### Same initial conditions"
   ]
  },
  {
   "cell_type": "code",
   "execution_count": null,
   "id": "2824415c-95bd-4fdb-8b47-2432500108df",
   "metadata": {},
   "outputs": [],
   "source": [
    "sindy_simulation = model.simulate(X_init, t=t)"
   ]
  },
  {
   "cell_type": "code",
   "execution_count": null,
   "id": "a49f38e6-581e-46b0-ab85-1efb33156f08",
   "metadata": {},
   "outputs": [],
   "source": [
    "fig, ax = plt.subplots(1, 1, figsize=(6, 4), dpi=150)\n",
    "for i, component in enumerate(np.linspace(0, K - 1, num=3, dtype=int)):\n",
    "    ax.plot(t, X[:, component], \"--\", color=colors[i])\n",
    "    ax.plot(\n",
    "        t,\n",
    "        sindy_simulation[:, component],\n",
    "        color=colors[i],\n",
    "        label=model.feature_names[component],\n",
    "    )\n",
    "ax.legend(fontsize=7)\n",
    "ax.set(xlabel=\"t\", ylabel=r\"$x_i$\")\n",
    "ax.grid()\n",
    "plt.show();"
   ]
  },
  {
   "cell_type": "markdown",
   "id": "0757ead7-8fc1-418e-8b31-b72b43ae384f",
   "metadata": {},
   "source": [
    "## Other initial conditions"
   ]
  },
  {
   "cell_type": "code",
   "execution_count": null,
   "id": "9de3b4aa-cf64-4b34-ab4c-1ce89d4763a2",
   "metadata": {},
   "outputs": [],
   "source": [
    "X_init_new = 0.5 * s(k, K) * (s(k, K) - 2) * (s(k, K) + 2)\n",
    "W.set_state(X_init_new, Y_init)\n",
    "# Run the true state\n",
    "X_new, Y_new, t = W.run(dt, dt * steps, store=True)"
   ]
  },
  {
   "cell_type": "code",
   "execution_count": null,
   "id": "36d64b56-4591-4b85-9402-703a12365f95",
   "metadata": {},
   "outputs": [],
   "source": [
    "sindy_simulation_new = model.simulate(X_init_new, t=t)"
   ]
  },
  {
   "cell_type": "code",
   "execution_count": null,
   "id": "a6790161-afc1-4db0-af1e-aa751f5f72b3",
   "metadata": {},
   "outputs": [],
   "source": [
    "fig, ax = plt.subplots(1, 1, figsize=(6, 4), dpi=150)\n",
    "for i, component in enumerate(np.linspace(0, K - 1, num=3, dtype=int)):\n",
    "    ax.plot(t, X_new[:, component], \"--\", color=colors[i])\n",
    "    ax.plot(\n",
    "        t,\n",
    "        sindy_simulation_new[:, component],\n",
    "        color=colors[i],\n",
    "        label=model.feature_names[component],\n",
    "    )\n",
    "ax.legend(fontsize=7)\n",
    "ax.set(xlabel=\"t\", ylabel=r\"$x_i$\", title=\"New initial conditions\")\n",
    "ax.grid()\n",
    "plt.show();"
   ]
  },
  {
   "cell_type": "markdown",
   "id": "af3d1e9f-ef45-4c2c-9eb7-fee641376e62",
   "metadata": {},
   "source": [
    "Similar to the case with L63 model, the system predicted by SINDy gives an accurate prediction of trajectories for a certain time, then the prediction strts deviating from the original model. It is related to the error in the coefficients obtained in optimization anf the chaotical nature of the Lorenz system."
   ]
  },
  {
   "cell_type": "code",
   "execution_count": null,
   "id": "74e8f259-a795-47c7-a4b0-cce3faea6c12",
   "metadata": {},
   "outputs": [],
   "source": [
    "X_init_new = s(k, K) * (s(k, K) - 2) * (s(k, K) + 2)  # Initial conditions"
   ]
  },
  {
   "cell_type": "code",
   "execution_count": null,
   "id": "624b632a-787f-4942-a192-62e516fb4704",
   "metadata": {},
   "outputs": [],
   "source": [
    "X_new, t = integrate_L96_1t(X_init_new, Forcing, dt, steps)"
   ]
  },
  {
   "cell_type": "code",
   "execution_count": null,
   "id": "ed1605e6-809b-46d4-9762-f1e908e15378",
   "metadata": {},
   "outputs": [],
   "source": [
    "sindy_simulation_new = model.simulate(X_init_new, t=t)"
   ]
  },
  {
   "cell_type": "code",
   "execution_count": null,
   "id": "c5cbf9dc-ffdd-4447-ac44-ce098508b5f2",
   "metadata": {},
   "outputs": [],
   "source": [
    "fig, ax = plt.subplots(1, 1, figsize=(6, 4), dpi=150)\n",
    "for i, component in enumerate(np.linspace(0, K - 1, num=3, dtype=int)):\n",
    "    ax.plot(t, X_new[:, component], \"--\", color=colors[i])\n",
    "    ax.plot(\n",
    "        t,\n",
    "        sindy_simulation_new[:, component],\n",
    "        color=colors[i],\n",
    "        label=model.feature_names[component],\n",
    "    )\n",
    "ax.legend(fontsize=7)\n",
    "ax.set(xlabel=\"t\", ylabel=r\"$x_i$\")\n",
    "ax.grid()\n",
    "plt.show()"
   ]
  },
  {
   "cell_type": "markdown",
   "id": "3b1cad42-fda7-4764-af7a-5217a09ce8c9",
   "metadata": {
    "tags": []
   },
   "source": [
    "## Case of strong coupling"
   ]
  },
  {
   "cell_type": "markdown",
   "id": "b827bc2c-127d-48ba-a262-7942ff0f5e2b",
   "metadata": {},
   "source": [
    "Now, let us consider the L96 two-scale model with a stronger coupling between the large and small scales. The coupling coefficient here is put to be 10 times higher."
   ]
  },
  {
   "cell_type": "code",
   "execution_count": null,
   "id": "6c79ad20-f6db-43be-9bf5-c69a53ba1956",
   "metadata": {},
   "outputs": [],
   "source": [
    "# Create a \"real world\" with K=8 and J=32\n",
    "W_strong = L96(K, J, F=Forcing, h=1.0)\n",
    "W_strong.set_state(X_init, Y_init)\n",
    "# Run the true state\n",
    "X_s, Y_s, t = W_strong.run(dt, dt * steps, store=True)"
   ]
  },
  {
   "cell_type": "code",
   "execution_count": null,
   "id": "e84bddb0-2a1b-4224-93d9-3d1c5ea48fe8",
   "metadata": {},
   "outputs": [],
   "source": [
    "fig, ax = plt.subplots(1, 1, figsize=(6, 4), dpi=150)\n",
    "contours = ax.contourf(k, t, X_s, levels=20)\n",
    "fig.colorbar(contours)\n",
    "ax.set(xlabel=\"k\", ylabel=\"t\")\n",
    "plt.show()"
   ]
  },
  {
   "cell_type": "markdown",
   "id": "af054c0e-014b-4dc6-8b4f-b38f918dd943",
   "metadata": {},
   "source": [
    "### Build the SINDy model"
   ]
  },
  {
   "cell_type": "code",
   "execution_count": null,
   "id": "3b352eaa-2aa6-4d62-ae70-6494fb83d84a",
   "metadata": {},
   "outputs": [],
   "source": [
    "model_s = ps.SINDy(\n",
    "    differentiation_method=differentiation_method,\n",
    "    feature_library=feature_library,\n",
    "    optimizer=optimizer,\n",
    "    feature_names=[(\"x\" + str(i)) for i in k],\n",
    ")"
   ]
  },
  {
   "cell_type": "code",
   "execution_count": null,
   "id": "17c9b317-bb0b-4299-9e3f-967836c7d3ef",
   "metadata": {},
   "outputs": [],
   "source": [
    "model_s.fit(X_s, t=t)"
   ]
  },
  {
   "cell_type": "code",
   "execution_count": null,
   "id": "816f9bb0-c168-4bf6-bd98-c939ef929c04",
   "metadata": {},
   "outputs": [],
   "source": [
    "model_s.print()"
   ]
  },
  {
   "cell_type": "code",
   "execution_count": null,
   "id": "37168b11-a774-4b61-8300-20b759c84bdf",
   "metadata": {},
   "outputs": [],
   "source": [
    "with sns.axes_style(style=\"white\", rc={\"axes.facecolor\": (0, 0, 0, 0)}):\n",
    "    max_mag = np.max(np.abs(model_s.coefficients()))\n",
    "    fig, axs = plt.subplots(\n",
    "        1, 1, figsize=(8, 10), sharey=True, sharex=True, tight_layout=True\n",
    "    )\n",
    "    plot_coefficients(\n",
    "        model_s.coefficients(),\n",
    "        input_features=[(\"x\" + str(i)) for i in k],\n",
    "        feature_names=feature_library.get_feature_names(),\n",
    "        ax=axs,\n",
    "        cbar=True,\n",
    "        vmax=max_mag,\n",
    "        vmin=-max_mag,\n",
    "        cmap=\"seismic\",\n",
    "    )\n",
    "    axs.set(title=\"SINDy coefficients\")"
   ]
  },
  {
   "cell_type": "markdown",
   "id": "eceb3597-f4d7-4f43-ba45-5fbaf472b523",
   "metadata": {},
   "source": [
    "We can see that despite the fact that in general SINDy captures the structure of ODEs, the coefficients become different from the original model, due to the influence of the interaction with the small scale. Interestingly, the coefficients in front of linear terms in the ODEs are now all close to 1.7-1.8 (instead of 1.0 in the true model), and the predicted forcing value is systematically smaller than the true value 18. "
   ]
  },
  {
   "cell_type": "markdown",
   "id": "b8fcce95-8330-4f29-b385-d2943deb5ad2",
   "metadata": {},
   "source": [
    "### Run the predicted model"
   ]
  },
  {
   "cell_type": "code",
   "execution_count": null,
   "id": "89d3d8d3-b82f-433b-b239-c530b6d4b06b",
   "metadata": {},
   "outputs": [],
   "source": [
    "sindy_simulation_s = model_s.simulate(X_init, t=t)"
   ]
  },
  {
   "cell_type": "code",
   "execution_count": null,
   "id": "975e70b0-2bfb-4ab7-8b6c-a4d5d68b5e39",
   "metadata": {},
   "outputs": [],
   "source": [
    "fig, ax = plt.subplots(1, 1, figsize=(6, 4), dpi=150)\n",
    "for i, component in enumerate(np.linspace(0, K - 1, num=3, dtype=int)):\n",
    "    ax.plot(t, X_s[:, component], \"--\", color=colors[i])\n",
    "    ax.plot(\n",
    "        t,\n",
    "        sindy_simulation_s[:, component],\n",
    "        color=colors[i],\n",
    "        label=model.feature_names[component],\n",
    "    )\n",
    "ax.legend(fontsize=7)\n",
    "ax.set(xlabel=\"t\", ylabel=r\"$x_i$\")\n",
    "ax.grid()\n",
    "plt.show()"
   ]
  },
  {
   "cell_type": "markdown",
   "id": "4bb4f383-606b-45e8-99a7-bcbe5a5bb860",
   "metadata": {
    "tags": []
   },
   "source": [
    "The resulting trajectories start deviating fast from the true trajectories. "
   ]
  },
  {
   "cell_type": "markdown",
   "id": "8042a757-85e5-4113-a568-fcb0cfcec4d6",
   "metadata": {},
   "source": [
    "## Conclusions\n",
    "\n",
    "Sparse system identification method works well in conditions when we have already have some knowledgement about the equations (about sparsity, the type on non-lineartity) and optimal data representation (good coordinates). "
   ]
  }
 ],
 "metadata": {
  "kernelspec": {
   "display_name": "Python 3 (ipykernel)",
   "language": "python",
   "name": "python3"
  },
  "language_info": {
   "codemirror_mode": {
    "name": "ipython",
    "version": 3
   },
   "file_extension": ".py",
   "mimetype": "text/x-python",
   "name": "python",
   "nbconvert_exporter": "python",
   "pygments_lexer": "ipython3",
   "version": "3.9.16"
  }
 },
 "nbformat": 4,
 "nbformat_minor": 5
}
