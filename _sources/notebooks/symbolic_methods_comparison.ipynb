{
 "cells": [
  {
   "cell_type": "markdown",
   "id": "f65214e4-a677-4ede-871e-5f3fef45f2b1",
   "metadata": {
    "user_expressions": []
   },
   "source": [
    "# Introduction to Equation Discovery - Comparing Symbolic Regression Methods"
   ]
  },
  {
   "cell_type": "markdown",
   "id": "25d66ef6-0c47-4725-8d01-eb8141171d6c",
   "metadata": {
    "user_expressions": []
   },
   "source": [
    "Upto now we have seen that the climate models we developed are using physical equations that are based on our understanding of the physical processes that govern the climate. However, these equations are often complex and difficult to solve, and they can only be used to model the climate at a coarse resolution.\n",
    "\n",
    "**Equation discovery is a different approach that uses machine learning to automatically discover equations that can be used to model the climate.** Specifically, equation discovery in climate modeling can be used to:\n",
    "- **Automate the process of developing subgrid parameterizations.** Subgrid parameterizations are mathematical equations that are used to represent the effects of processes that are too small to be resolved by climate models. These equations are often complex and difficult to develop, but they can be automatically discovered using equation discovery.\n",
    "- **Identify relationships between variables that are important for understanding climate change.** Machine learning algorithms can learn from large datasets of climate data to identify relationships between variables that are important for understanding climate change.\n",
    "- **Develop models that are more interpretable and that can be used to make better decisions about how to mitigate and adapt to climate change.** Machine learning algorithms can generate equations that are easier to understand than traditional physical equations. This can help scientists and policymakers to understand how climate models work and to make better decisions about how to mitigate and adapt to climate change."
   ]
  },
  {
   "cell_type": "markdown",
   "id": "7a104c71",
   "metadata": {
    "user_expressions": []
   },
   "source": [
    "In this notebook, we'll review some common techniques for **Symbolic Regression (SR)**, a family of methods of discovering (simple) equations that relate inputs to outputs.\n",
    "\n",
    "In particular, we'll cover the following methods:\n",
    "\n",
    "- Symbolic regression based on {ref}`genetic-programming-section`\n",
    "    * {ref}`gplearn-sec`\n",
    "    * {ref}`pysr-sec`\n",
    "\n",
    "- Symbolic regression based on {ref}`sparse-regression-sec`\n",
    "    * {ref}`linear-regression-sec`\n",
    "    * {ref}`lasso-sec`\n",
    "    * {ref}`rvm-sec`\n",
    "    * {ref}`stlsq-sec`\n",
    "\n",
    "- Brief overview of other techniques"
   ]
  },
  {
   "cell_type": "code",
   "execution_count": null,
   "id": "9070565d",
   "metadata": {
    "tags": []
   },
   "outputs": [],
   "source": [
    "%matplotlib inline\n",
    "import matplotlib.pyplot as plt\n",
    "import numpy as np\n",
    "import pysindy as ps\n",
    "from sklearn.linear_model import Lasso, LinearRegression\n",
    "from sympy import Number, latex\n",
    "\n",
    "from rvm import RVR"
   ]
  },
  {
   "cell_type": "markdown",
   "id": "c74c2213-8d54-477b-b483-0dc38d65a219",
   "metadata": {
    "user_expressions": []
   },
   "source": [
    "## Data\n",
    "\n",
    "When explaining the methods, we'll consider the following bivariate system:\n",
    "\n",
    "$$\n",
    "y = x_0^2 - \\frac{1}{2}x_1^2 + \\sin\\left(\\frac{1}{2} x_0 x_1\\right)\n",
    "$$\n",
    "\n",
    "Although the equation is relatively simple, discovering it from $x_0$ and $x_1$ directly is a bit tough, since the $\\sin$ term requires going at least three levels deep in term combinations, and also involves an inner multiplication by a constant (which not all symbolic regression frameworks support)."
   ]
  },
  {
   "cell_type": "code",
   "execution_count": null,
   "id": "58b37b2c",
   "metadata": {
    "tags": []
   },
   "outputs": [],
   "source": [
    "def toy_function(x):\n",
    "    x0 = x[:, 0]\n",
    "    x1 = x[:, 1]\n",
    "    return x0**2 - 0.5 * x1**2 + np.sin(0.5 * x0 * x1)"
   ]
  },
  {
   "cell_type": "code",
   "execution_count": null,
   "id": "c04e4072",
   "metadata": {},
   "outputs": [],
   "source": [
    "def contour(\n",
    "    f, lines=None, linewidths=6, alpha=0.9, linestyles=\"solid\", label=None, **kw\n",
    "):\n",
    "    grid = np.linspace(-4, 4, 150)\n",
    "    xyg = np.array(np.meshgrid(grid, grid))\n",
    "    X = xyg.reshape(2, -1).T\n",
    "    zg = f(X)\n",
    "    xg, yg = xyg\n",
    "    vlim = np.abs(zg).max()\n",
    "    plt.contourf(xg, yg, zg.reshape(xg.shape), 300, vmin=-vlim, vmax=vlim, cmap=\"bwr\")\n",
    "    plt.colorbar(label=label)"
   ]
  },
  {
   "cell_type": "code",
   "execution_count": null,
   "id": "98e6a5fc-5a49-4db8-b0fd-a4d34806f465",
   "metadata": {
    "tags": []
   },
   "outputs": [],
   "source": [
    "x = np.random.normal(size=(1000, 2))\n",
    "y = toy_function(x)"
   ]
  },
  {
   "cell_type": "code",
   "execution_count": null,
   "id": "5930af35",
   "metadata": {
    "tags": []
   },
   "outputs": [],
   "source": [
    "plt.figure(dpi=150)\n",
    "contour(toy_function, label=\"Function value\")\n",
    "plt.title(\"Toy domain for illustrating\\nsymbolic regression\", fontsize=16)\n",
    "plt.xlabel(\"$x_0$\", fontsize=16)\n",
    "plt.ylabel(\"$x_1$\", fontsize=16)\n",
    "plt.show()"
   ]
  },
  {
   "cell_type": "markdown",
   "id": "752732b1",
   "metadata": {
    "user_expressions": []
   },
   "source": [
    "(genetic-programming-section)=\n",
    "## Genetic Programming\n",
    "\n",
    "Genetic programming is a classic technique in AI, and interest in the idea dates back at least to Alan Turing (who proposes the idea in the [same paper](https://doi.org/10.1093/mind/LIX.236.433) that introduces the imitation game, or Turing test).\n",
    "\n",
    "The general idea is to have a:\n",
    "- \"Population\" of programs (in our case, possible symbolic expressions, usually represented as trees)\n",
    "- Some notion of individual \"fitness\" (in our case, how well they model the data, as well as their simplicity)\n",
    "- Some means of applying random \"mutations\" (e.g. adding a term, deleting a term)\n",
    "\n",
    "```{figure} figs/gp_mutation_types.png\n",
    ":name: genetic-programming-mutation-types\n",
    "\n",
    "Some examples for different mutation types\n",
    "```\n",
    "\n",
    "\"Crossover\" and \"subtree\" mutations combine features from multiple candidate equations, imitating the process of genetic recombination from sexual reproduction. \"Hoist\" and \"point\" mutations modify individual equations, imitating the process of genetic mutation from, e.g., random errors in DNA replication.\n",
    "\n",
    "Specific mutations aside, programs can have a limited lifespan, and those with high \"fitness\" produce more \"offspring\" (possibly-mutated versions of themselves). However, everything is probabilistic, so programs with lower fitness can still persist. This is critically important, because it allows genetic programming to overcome local minima during optimization.\n",
    "\n",
    "Note that although genetic programming can be a robust way to solve extremely difficult non-convex optimization problems (as perhaps evidenced by life itself), it also tends to be slow and resource-intensive."
   ]
  },
  {
   "cell_type": "markdown",
   "id": "eb6501f9",
   "metadata": {
    "user_expressions": []
   },
   "source": [
    "(gplearn-sec)=\n",
    "### gplearn\n",
    "\n",
    "One nicely-documented library for \"pure\" genetic programming-based symbolic regression is [gplearn](https://gplearn.readthedocs.io/en/stable/), which provides a scikit-learn style API and a number of configuration options:\n",
    "\n",
    "#### Run gplearn"
   ]
  },
  {
   "cell_type": "code",
   "execution_count": null,
   "id": "1100219a-ac1a-4b47-a6f9-c9606b8c852e",
   "metadata": {
    "tags": []
   },
   "outputs": [],
   "source": [
    "import gplearn\n",
    "import gplearn.genetic"
   ]
  },
  {
   "cell_type": "code",
   "execution_count": null,
   "id": "1423685b",
   "metadata": {
    "tags": []
   },
   "outputs": [],
   "source": [
    "gplearn_sr = gplearn.genetic.SymbolicRegressor(\n",
    "    population_size=5000,\n",
    "    generations=50,\n",
    "    p_crossover=0.7,\n",
    "    p_subtree_mutation=0.1,\n",
    "    p_hoist_mutation=0.05,\n",
    "    p_point_mutation=0.1,\n",
    "    max_samples=0.9,\n",
    "    verbose=1,\n",
    "    parsimony_coefficient=0.01,\n",
    "    function_set=(\"add\", \"mul\", \"sin\"),\n",
    ")\n",
    "gplearn_sr.fit(x, y)"
   ]
  },
  {
   "cell_type": "markdown",
   "id": "65cd4ab0",
   "metadata": {},
   "source": [
    "#### Interpret results"
   ]
  },
  {
   "cell_type": "code",
   "execution_count": null,
   "id": "fa7a7000",
   "metadata": {
    "tags": []
   },
   "outputs": [],
   "source": [
    "print(gplearn_sr._program)"
   ]
  },
  {
   "cell_type": "markdown",
   "id": "0b9ccf66",
   "metadata": {
    "user_expressions": []
   },
   "source": [
    "This looks very close to the right answer, though the constants are slightly off."
   ]
  },
  {
   "cell_type": "code",
   "execution_count": null,
   "id": "a7fa571b",
   "metadata": {
    "tags": []
   },
   "outputs": [],
   "source": [
    "[const for const in gplearn_sr._program.program if isinstance(const, float)]"
   ]
  },
  {
   "cell_type": "markdown",
   "id": "8e187826-75be-4522-a2eb-46b70e103847",
   "metadata": {
    "user_expressions": []
   },
   "source": [
    "This is likely because gplearn mutations which add or update constants always pick values by drawing random uniform values (within pre-specified ranges, by default -1 to 1). In my limited experience so far, this is one of the major inefficiencies."
   ]
  },
  {
   "cell_type": "markdown",
   "id": "7a5c4b50",
   "metadata": {
    "user_expressions": []
   },
   "source": [
    "(pysr-sec)=\n",
    "### PySR\n",
    "\n",
    "[PySR](https://pysr.readthedocs.io/en/latest/) is a different library for symbolic regression which, though still based on genetic programming, includes simulated annealing and gradient-free optimization to set the values of constants as well as performance improvements (although accessible via a Python API, the main library is written in Julia for speed). This seems to make it a bit more reliable and precise.\n",
    "\n",
    "#### Run PySR"
   ]
  },
  {
   "cell_type": "code",
   "execution_count": null,
   "id": "8fff8157-5658-4a29-a97e-a5f0e4d3d265",
   "metadata": {
    "tags": []
   },
   "outputs": [],
   "source": [
    "import pysr"
   ]
  },
  {
   "cell_type": "code",
   "execution_count": null,
   "id": "5f15cf43",
   "metadata": {
    "tags": []
   },
   "outputs": [],
   "source": [
    "equations = pysr.PySRRegressor(\n",
    "    niterations=5,\n",
    "    binary_operators=[\"+\", \"*\"],  # operators that can combine two terms\n",
    "    unary_operators=[\"sin\"],  # operators that modify a single term\n",
    ")\n",
    "equations.fit(x, y)"
   ]
  },
  {
   "cell_type": "markdown",
   "id": "2e79683d",
   "metadata": {},
   "source": [
    "#### Interpret results"
   ]
  },
  {
   "cell_type": "code",
   "execution_count": null,
   "id": "0037d292",
   "metadata": {},
   "outputs": [],
   "source": [
    "def round_expr(expr, num_digits=4):\n",
    "    return expr.xreplace({n: round(n, num_digits) for n in expr.atoms(Number)})"
   ]
  },
  {
   "cell_type": "code",
   "execution_count": null,
   "id": "5adf39e9",
   "metadata": {},
   "outputs": [],
   "source": [
    "round_expr(equations.sympy())"
   ]
  },
  {
   "cell_type": "markdown",
   "id": "f1de78e9",
   "metadata": {
    "user_expressions": []
   },
   "source": [
    "It looks like PySR is able to not only discover the correct equation, but also format it for us nicely.\n",
    "\n",
    "In addition, it saves a Pareto frontier of possible expressions of varying complexities, which had the lowest error of any other equations of equal or lesser complexity (with a configurable trade-off rule):"
   ]
  },
  {
   "cell_type": "code",
   "execution_count": null,
   "id": "ac318f36",
   "metadata": {},
   "outputs": [],
   "source": [
    "equations.equations_"
   ]
  },
  {
   "cell_type": "code",
   "execution_count": null,
   "id": "8f3ec9c9-517b-420a-854a-824577068130",
   "metadata": {},
   "outputs": [],
   "source": [
    "equations.equations_.loss"
   ]
  },
  {
   "cell_type": "code",
   "execution_count": null,
   "id": "a3724a38",
   "metadata": {},
   "outputs": [],
   "source": [
    "plt.figure(figsize=(12, 3), dpi=150)\n",
    "plt.bar(\n",
    "    np.arange(len(equations.equations_)),\n",
    "    equations.equations_.loss,\n",
    "    width=0.33,\n",
    "    color=\"blue\",\n",
    ")\n",
    "\n",
    "\n",
    "plt.yscale(\"log\")\n",
    "plt.ylabel(\"Mean squared error\", fontsize=14, color=\"blue\")\n",
    "plt.xticks(\n",
    "    range(len(equations.equations_)),\n",
    "    [f\"${latex(round_expr(v,7))}$\" for v in equations.equations_.sympy_format],\n",
    "    rotation=30,\n",
    "    ha=\"right\",\n",
    "    fontsize=12,\n",
    ")\n",
    "plt.title(\"PySR Pareto frontier\", fontsize=16)\n",
    "plt.xlabel(\"Expression (more complex $\\\\to$)\", fontsize=14)\n",
    "\n",
    "ax2 = plt.twinx()\n",
    "ax2.bar(\n",
    "    np.arange(len(equations.equations_)) + 0.33,\n",
    "    equations.equations_.score,\n",
    "    width=0.33,\n",
    "    color=\"orange\",\n",
    ")\n",
    "ax2.set_ylabel(\"PySR score\", color=\"orange\", fontsize=14)\n",
    "\n",
    "plt.show()"
   ]
  },
  {
   "cell_type": "markdown",
   "id": "acfbc136",
   "metadata": {
    "user_expressions": []
   },
   "source": [
    "(sparse-regression-sec)=\n",
    "## Manually Constructed Library + Sparse Regression\n",
    "\n",
    "Another approach to performing symbolic regression is to\n",
    "- Hand-construct a library of basis functions (e.g. by recursively combining all terms with various operations)\n",
    "- Run sparse linear regression to extract a small set of basis functions\n",
    "\n",
    "This approach works well for problems where any constants in the underlying formula can be extracted out to the outermost level (so they can be determined by linear regression). It also works well when we have domain knowledge about which terms could potentially appear in the final sum.\n",
    "\n",
    "It does not work well in cases where constants can't be pulled outside certain operations (e.g. in this case, with the sine operator, though powers and derivatives are generally fine). This method can also struggle when basis function values are highly correlated, though it depends on the sparse regression method.\n",
    "\n",
    "Let's create an augmentation function which takes an array of features and adds additional basis functions by combining them with binary multiplication and unary sine operations:"
   ]
  },
  {
   "cell_type": "code",
   "execution_count": null,
   "id": "c82ac622-e269-4c67-a484-d826b9746c6d",
   "metadata": {},
   "outputs": [],
   "source": [
    "def augment(feats, names):\n",
    "    existing = set(names)\n",
    "    new_feats = []\n",
    "    new_names = []\n",
    "\n",
    "    for i in range(feats.shape[1]):\n",
    "        name = f\"sin({names[i]})\"\n",
    "        if name not in existing:\n",
    "            new_feats.append(np.sin(feats[:, i]))\n",
    "            new_names.append(name)\n",
    "        for j in range(i, feats.shape[1]):\n",
    "            name = f\"mul({names[i]}, {names[j]})\"\n",
    "            if name not in existing:\n",
    "                new_feats.append(feats[:, i] * feats[:, j])\n",
    "                new_names.append(name)\n",
    "\n",
    "    return np.hstack((feats, np.array(new_feats).T)), names + new_names"
   ]
  },
  {
   "cell_type": "code",
   "execution_count": null,
   "id": "c3df85a0",
   "metadata": {},
   "outputs": [],
   "source": [
    "def repeatedly_augment(feats, names=None, depth=2):\n",
    "    if names is None:\n",
    "        names = [f\"x{i}\" for i in range(len(feats))]\n",
    "    for _ in range(depth):\n",
    "        feats, names = augment(feats, names)\n",
    "    return feats, names"
   ]
  },
  {
   "cell_type": "code",
   "execution_count": null,
   "id": "59368f96-e85b-4086-bee0-133e31f231eb",
   "metadata": {},
   "outputs": [],
   "source": [
    "feats, names = repeatedly_augment(np.array(x), [\"x0\", \"x1\"], depth=2)"
   ]
  },
  {
   "cell_type": "markdown",
   "id": "2b7b11c2",
   "metadata": {
    "user_expressions": []
   },
   "source": [
    "Applying this twice brings us from 2 features up to 37:"
   ]
  },
  {
   "cell_type": "code",
   "execution_count": null,
   "id": "1221f8a1",
   "metadata": {},
   "outputs": [],
   "source": [
    "feats.shape"
   ]
  },
  {
   "cell_type": "markdown",
   "id": "598e13c9",
   "metadata": {
    "user_expressions": []
   },
   "source": [
    "We can see that the complexity of this approach starts to blow up exponentially, though, as we increase the maximum depth of an expression:"
   ]
  },
  {
   "cell_type": "code",
   "execution_count": null,
   "id": "0c865291",
   "metadata": {},
   "outputs": [],
   "source": [
    "augment(feats, names)[0].shape"
   ]
  },
  {
   "cell_type": "code",
   "execution_count": null,
   "id": "47403518",
   "metadata": {},
   "outputs": [],
   "source": [
    "augment(*augment(feats, names))[0].shape"
   ]
  },
  {
   "cell_type": "markdown",
   "id": "094e5f3c",
   "metadata": {
    "user_expressions": []
   },
   "source": [
    "If we need arbitrary polynomials of up to 4th order, we end up with orders of magnitude more features than samples, which will cause problems.\n",
    "\n",
    "Note that since this method lacks the ability to apply operations with constants within other operations, $\\sin(0.5 x_0 x_1)$ isn't present in any of these possible sets, though $\\sin(x_0 x_1)$ is.\n",
    "\n",
    "Let's now see how different methods for (sparse) linear regression perform on this task:"
   ]
  },
  {
   "cell_type": "code",
   "execution_count": null,
   "id": "2e53fc88",
   "metadata": {},
   "outputs": [],
   "source": [
    "def learned_expr(coef, names, cutoff=1e-2):\n",
    "    coef_idx = np.argwhere(np.abs(coef) > cutoff)[:, 0]\n",
    "    sort_order = reversed(np.argsort(np.abs(coef[coef_idx])))\n",
    "    return \" + \".join(\n",
    "        [f\"{coef[coef_idx[i]]:.4f}*{names[coef_idx[i]]}\" for i in sort_order]\n",
    "    )"
   ]
  },
  {
   "cell_type": "markdown",
   "id": "1d678e8b",
   "metadata": {
    "user_expressions": []
   },
   "source": [
    "(linear-regression-sec)=\n",
    "### Linear regression\n",
    "\n",
    "We can start with completely unregularized linear regression, which will find the linear combination of basis terms that minimizes mean squared error (to high precision, due to the convexity of the problem and an analytic way of solving it)."
   ]
  },
  {
   "cell_type": "code",
   "execution_count": null,
   "id": "a9175e41",
   "metadata": {},
   "outputs": [],
   "source": [
    "linreg = LinearRegression()\n",
    "linreg.fit(feats, y)\n",
    "learned_expr(linreg.coef_, names)"
   ]
  },
  {
   "cell_type": "markdown",
   "id": "8cd9b0d9-f8f7-4cc9-985b-daa322894112",
   "metadata": {
    "user_expressions": []
   },
   "source": [
    "Unfortunately, this doesn't seem to give us a very sparse solution in this case."
   ]
  },
  {
   "cell_type": "markdown",
   "id": "d6fd81cd",
   "metadata": {
    "user_expressions": []
   },
   "source": [
    "(lasso-sec)=\n",
    "### L1-regularized linear regression (LASSO)\n",
    "\n",
    "A common way to make linear regression return more sparse solutions is to minimize a linear combination of the mean squared error and the sum of the magnitudes of the weights. This is called applying an \"L1 penalty\" since it is the L1-norm of the weight vector, and is also referred to as the \"Least Absolute Shrinkage and Selection Operator\", or LASSO. From a Bayesian perspective, this corresponds to doing Bayesian linear regression with a Laplace or double-exponential prior on the weights.\n",
    "\n",
    "Note that although this penalty does tend to encourage sparsity, it's also meant as a regularizer, which can help with the presence of noise. "
   ]
  },
  {
   "cell_type": "code",
   "execution_count": null,
   "id": "d485daad",
   "metadata": {},
   "outputs": [],
   "source": [
    "lasso = Lasso(alpha=0.01)\n",
    "lasso.fit(feats, y)\n",
    "learned_expr(lasso.coef_, names)"
   ]
  },
  {
   "cell_type": "markdown",
   "id": "605f5bbc",
   "metadata": {
    "user_expressions": []
   },
   "source": [
    "Here, LASSO ends up doing a pretty good job finding the first two terms of the ground-truth model ($x_0^2 - 0.5x_1^2$), with an approximation of the remaining $\\sin(0.5 x_0 x_1)$ term as $ 0.2(x_0\\sin(x_1)+x_1\\sin(x_0)) + 0.1(\\sin(x_0 x_1) + x_0x_1)$:"
   ]
  },
  {
   "cell_type": "code",
   "execution_count": null,
   "id": "732ab3e2",
   "metadata": {},
   "outputs": [],
   "source": [
    "plt.figure(figsize=(4, 4), dpi=150)\n",
    "x0 = x[:, 0]\n",
    "x1 = x[:, 1]\n",
    "sin = np.sin\n",
    "plt.scatter(\n",
    "    sin(0.5 * x0 * x1),\n",
    "    0.2 * (x0 * sin(x1) + x1 * sin(x0)) + 0.1 * (sin(x0 * x1) + x0 * x1),\n",
    ")\n",
    "plt.plot([-1, 1], [-1, 1], color=\"red\")\n",
    "plt.xlabel(r\"$\\sin(0.5 x_0 x_1)$\", fontsize=12)\n",
    "plt.ylabel(\n",
    "    r\"$0.2(x_0\\sin(x_1)+x_1\\sin(x_0))$\" + \"\\n\" + r\"$+ 0.1(\\sin(x_0 x_1) + x_0x_1)$\",\n",
    "    fontsize=12,\n",
    ")\n",
    "plt.show()"
   ]
  },
  {
   "cell_type": "markdown",
   "id": "83068241",
   "metadata": {
    "user_expressions": []
   },
   "source": [
    "(rvm-sec)=\n",
    "### Relevance vector machines (RVM)\n",
    "\n",
    "Relevance vector machines, used by [Zanna and Bolton 2020](https://laurezanna.github.io/files/Zanna-Bolton-2020.pdf) for equation discovery, provide another way of learning sparse linear models in a Bayesian manner, though with a different prior that prioritizes sparsity over shrinkage when the data permits it. RVMs can also be used with a kernel trick to learn nonlinear decision boundaries which are sparse in a kernelized feature space, though in this case, we use a linear kernel on top of our manually computed library features."
   ]
  },
  {
   "cell_type": "code",
   "execution_count": null,
   "id": "b96ed603",
   "metadata": {},
   "outputs": [],
   "source": [
    "rvm = RVR(verbose=False)\n",
    "rvm.fit(feats, y, names)\n",
    "learned_expr(rvm.m_, rvm.labels)"
   ]
  },
  {
   "cell_type": "markdown",
   "id": "037f08eb-2e3c-4ecd-9f0f-962413e31d8c",
   "metadata": {
    "user_expressions": []
   },
   "source": [
    "RVM does discover the $x_0^2$ and $-0.5x_1^2$ terms almost exactly, but ends up with an even more complex approximate expression for the missing $\\sin(0.5x_0x_1)$ term."
   ]
  },
  {
   "cell_type": "markdown",
   "id": "38dff9b2",
   "metadata": {
    "user_expressions": []
   },
   "source": [
    "(stlsq-sec)=\n",
    "### Sequentially Thresholded Least Squares (STLSQ) from pysindy\n",
    "\n",
    "The PySINDy library provides a number of efficient Python implementations of sparse regression algorithms. Their default regression method is sequentially thresholded least squares (STLSQ), which (as its name might suggest) repeatedly runs L2-regularized linear regression with penalty strength `alpha` and prunes features with weight magnitudes below a given `threshold`."
   ]
  },
  {
   "cell_type": "code",
   "execution_count": null,
   "id": "6ae57fce",
   "metadata": {},
   "outputs": [],
   "source": [
    "stlsq = ps.optimizers.stlsq.STLSQ(alpha=0.0001, threshold=0.1)\n",
    "stlsq.fit(feats, y)\n",
    "learned_expr(stlsq.coef_[0], names)"
   ]
  },
  {
   "cell_type": "markdown",
   "id": "7c57ec9d",
   "metadata": {
    "user_expressions": []
   },
   "source": [
    "This method ends up finding a sparser solution than Lasso, though I did tweak the parameters a bit to make that happen :)\n",
    "\n",
    "It's worth checking out [PySINDy's full suite of sparse regression methods](https://pysindy.readthedocs.io/en/latest/api/pysindy.optimizers.html) for other approaches!"
   ]
  },
  {
   "cell_type": "markdown",
   "id": "3016804a",
   "metadata": {
    "user_expressions": []
   },
   "source": [
    "Overall, all of these methods were able to find the $x_0^2$ and $-0.5x_1^2$ terms, but all of them also needed to find approximations for the remaining term because it wasn't in the feature library. Meaning the expressions are both less accurate and more complex."
   ]
  },
  {
   "cell_type": "markdown",
   "id": "da109831",
   "metadata": {
    "user_expressions": []
   },
   "source": [
    "### Tweaking the Feature Library\n",
    "\n",
    "Now, we can potentially resolve some of these issues by pre-multiplying $x_1$ by 0.5 before the augmentation process (which we'll call $x_{1h}$)."
   ]
  },
  {
   "cell_type": "code",
   "execution_count": null,
   "id": "b0e30e71",
   "metadata": {},
   "outputs": [],
   "source": [
    "feats2 = np.array(x)\n",
    "feats2[:, 1] = feats2[:, 1] * 0.5\n",
    "names2 = [\"x0\", \"x1h\"]\n",
    "depth = 2\n",
    "\n",
    "for _ in range(depth):\n",
    "    feats2, names2 = augment(feats2, names2)"
   ]
  },
  {
   "cell_type": "markdown",
   "id": "0d31d7c4",
   "metadata": {
    "user_expressions": []
   },
   "source": [
    "In this case, the correct model should be expressed as\n",
    "\n",
    "$$\n",
    "y = x_0^2 - 2x_{1h}^2 + \\sin(x_0 x_{1h})\n",
    "$$\n",
    "\n",
    "which is now a linear combination of our basis terms. Let's see if these regression techniques can find it:"
   ]
  },
  {
   "cell_type": "code",
   "execution_count": null,
   "id": "2dc1a7bf",
   "metadata": {},
   "outputs": [],
   "source": [
    "linreg = LinearRegression()\n",
    "linreg.fit(feats2, y)\n",
    "learned_expr(linreg.coef_, names2)"
   ]
  },
  {
   "cell_type": "code",
   "execution_count": null,
   "id": "9f9c67f7",
   "metadata": {},
   "outputs": [],
   "source": [
    "lasso = Lasso(alpha=0.01)\n",
    "lasso.fit(feats2, y)\n",
    "learned_expr(lasso.coef_, names2)"
   ]
  },
  {
   "cell_type": "code",
   "execution_count": null,
   "id": "6ff1bb78",
   "metadata": {},
   "outputs": [],
   "source": [
    "rvm = RVR(verbose=False)\n",
    "rvm.fit(feats2, y, names2)\n",
    "learned_expr(rvm.m_, rvm.labels)"
   ]
  },
  {
   "cell_type": "code",
   "execution_count": null,
   "id": "65cb4ad3",
   "metadata": {},
   "outputs": [],
   "source": [
    "stlsq = ps.optimizers.stlsq.STLSQ(alpha=0.0001, threshold=0.1)\n",
    "stlsq.fit(feats2, y)\n",
    "learned_expr(stlsq.coef_[0], names2)"
   ]
  },
  {
   "cell_type": "markdown",
   "id": "a1f55c25",
   "metadata": {
    "user_expressions": []
   },
   "source": [
    "In this case, every method except Lasso finds the true model exactly (which held true across many choices of regularization parameter).\n",
    "\n",
    "## Handling noise\n",
    "\n",
    "What if we add noise to the data?"
   ]
  },
  {
   "cell_type": "code",
   "execution_count": null,
   "id": "a9159d34",
   "metadata": {},
   "outputs": [],
   "source": [
    "noise = np.random.normal(size=feats2.shape) * 0.01"
   ]
  },
  {
   "cell_type": "code",
   "execution_count": null,
   "id": "a3ab527f",
   "metadata": {},
   "outputs": [],
   "source": [
    "linreg = LinearRegression()\n",
    "linreg.fit(feats2 + noise, y)\n",
    "learned_expr(linreg.coef_, names2)"
   ]
  },
  {
   "cell_type": "code",
   "execution_count": null,
   "id": "ce01433d",
   "metadata": {},
   "outputs": [],
   "source": [
    "lasso = Lasso(alpha=0.01)\n",
    "lasso.fit(feats2 + noise, y)\n",
    "learned_expr(lasso.coef_, names2)"
   ]
  },
  {
   "cell_type": "code",
   "execution_count": null,
   "id": "a7f3d131",
   "metadata": {},
   "outputs": [],
   "source": [
    "rvm = RVR(verbose=False)\n",
    "rvm.fit(feats2 + noise, y, names2)\n",
    "learned_expr(rvm.m_, rvm.labels)"
   ]
  },
  {
   "cell_type": "code",
   "execution_count": null,
   "id": "a0e87cc2",
   "metadata": {},
   "outputs": [],
   "source": [
    "stlsq = ps.optimizers.stlsq.STLSQ(alpha=0.0001, threshold=0.1)\n",
    "stlsq.fit(feats2 + noise, y)\n",
    "learned_expr(stlsq.coef_[0], names2)"
   ]
  },
  {
   "cell_type": "markdown",
   "id": "90e5a4d7",
   "metadata": {
    "user_expressions": []
   },
   "source": [
    "In this case, it actually becomes _Lasso_ which gets closest to the true model (i.e. is the only regression technique whose first three leading terms match the ground-truth model). This reversal illustrates how noise can strongly impact the effectiveness of different methods for learning symbolic models.\n",
    "\n",
    "Let's see how genetic programming-based techniques deal with noise."
   ]
  },
  {
   "cell_type": "code",
   "execution_count": null,
   "id": "1de9bcf5",
   "metadata": {},
   "outputs": [],
   "source": [
    "noisy_equations = pysr.PySRRegressor(\n",
    "    niterations=5,\n",
    "    binary_operators=[\"+\", \"*\"],  # operators that can combine two terms\n",
    "    unary_operators=[\"sin\"],  # operators that modify a single term\n",
    ")\n",
    "noisy_equations.fit(x, y + np.random.normal(size=y.shape));"
   ]
  },
  {
   "cell_type": "code",
   "execution_count": null,
   "id": "1834ef0d",
   "metadata": {},
   "outputs": [],
   "source": [
    "noisy_equations.equations_"
   ]
  },
  {
   "cell_type": "code",
   "execution_count": null,
   "id": "ad12ddb5",
   "metadata": {},
   "outputs": [],
   "source": [
    "round_expr(noisy_equations.sympy())"
   ]
  },
  {
   "cell_type": "code",
   "execution_count": null,
   "id": "3f4831fe",
   "metadata": {},
   "outputs": [],
   "source": [
    "noisy_equations.equations_.sympy_format.values[-4]"
   ]
  },
  {
   "cell_type": "markdown",
   "id": "6fd761c3",
   "metadata": {},
   "source": [
    "It looks like PySR was still able to discover the true expression as part of its Pareto frontier, though with the noise it's only rated third-best for the default tradeoff between complexity and performance (with a sin-less version taking first)."
   ]
  },
  {
   "cell_type": "markdown",
   "id": "68ffe19c",
   "metadata": {
    "user_expressions": []
   },
   "source": [
    "## Other Methods for Symbolic Regression\n",
    "\n",
    "To finish the notebook, here are a few other techniques for symbolic regression that don't fit under either previously described methods (and all developed in the last several years):\n",
    "\n",
    "- [STreCH](https://arxiv.org/pdf/2102.08351.pdf) (Julia implementation [here](https://github.com/jongeunkim/STreCH)) formulates symbolic regression as a non-convex mixed-integer nonlinear programming (MINLP) technique, which it solves using a heuristic-guided cutting plane formulation.\n",
    "- [EQL](http://proceedings.mlr.press/v80/sahoo18a/sahoo18a.pdf) (Python implementation [here](https://github.com/martius-lab/EQL)) develops \"equation layers\" for neural networks which can be readily interpreted and also chained together, and are regularized with a thresholded L1 penalty to encourage sparsity.\n",
    "- [AI Feynman](https://arxiv.org/abs/2006.10782) (hybrid Python-Fortran implementation [here](https://github.com/SJ001/AI-Feynman)) starts by training a neural network, then computes _input gradients_ of the learned network, and then uses attributes of those gradients to decompose the symbolic regression problem into something more tractable using graph theory.\n",
    "- [Symbolic Metamodeling](https://papers.nips.cc/paper/2019/hash/567b8f5f423af15818a068235807edc0-Abstract.html) (Python implementation [here](https://github.com/ahmedmalaa/Symbolic-Metamodeling)) uses gradient descent to learn compositions of Meijer-G functions, a flexible family that can be programmatically projected back onto a wide set of analytic, closed-form, or even algebriac expressions."
   ]
  },
  {
   "cell_type": "code",
   "execution_count": null,
   "id": "282ec194-148a-4e70-9570-104e18b007bf",
   "metadata": {},
   "outputs": [],
   "source": []
  }
 ],
 "metadata": {
  "kernelspec": {
   "display_name": "Python 3 (ipykernel)",
   "language": "python",
   "name": "python3"
  },
  "language_info": {
   "codemirror_mode": {
    "name": "ipython",
    "version": 3
   },
   "file_extension": ".py",
   "mimetype": "text/x-python",
   "name": "python",
   "nbconvert_exporter": "python",
   "pygments_lexer": "ipython3",
   "version": "3.9.16"
  }
 },
 "nbformat": 4,
 "nbformat_minor": 5
}
